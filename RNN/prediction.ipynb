{
 "cells": [
  {
   "cell_type": "code",
   "execution_count": 3,
   "id": "b34aa18b",
   "metadata": {},
   "outputs": [],
   "source": [
    "# Step 1: Import Libraries and Load the Model\n",
    "import numpy as np\n",
    "import tensorflow as tf\n",
    "from tensorflow.keras.datasets import imdb\n",
    "from tensorflow.keras.preprocessing import sequence\n",
    "from tensorflow.keras.models import load_model"
   ]
  },
  {
   "cell_type": "code",
   "execution_count": 4,
   "id": "d0cbc6bd",
   "metadata": {},
   "outputs": [],
   "source": [
    "\n",
    "# Load the IMDB dataset word index\n",
    "word_index = imdb.get_word_index()\n",
    "reverse_word_index = {value: key for key, value in word_index.items()}"
   ]
  },
  {
   "cell_type": "code",
   "execution_count": 5,
   "id": "bc9cd0d0",
   "metadata": {},
   "outputs": [
    {
     "name": "stderr",
     "output_type": "stream",
     "text": [
      "WARNING:absl:Compiled the loaded model, but the compiled metrics have yet to be built. `model.compile_metrics` will be empty until you train or evaluate the model.\n"
     ]
    },
    {
     "data": {
      "text/html": [
       "<pre style=\"white-space:pre;overflow-x:auto;line-height:normal;font-family:Menlo,'DejaVu Sans Mono',consolas,'Courier New',monospace\"><span style=\"font-weight: bold\">Model: \"sequential_2\"</span>\n",
       "</pre>\n"
      ],
      "text/plain": [
       "\u001b[1mModel: \"sequential_2\"\u001b[0m\n"
      ]
     },
     "metadata": {},
     "output_type": "display_data"
    },
    {
     "data": {
      "text/html": [
       "<pre style=\"white-space:pre;overflow-x:auto;line-height:normal;font-family:Menlo,'DejaVu Sans Mono',consolas,'Courier New',monospace\">┏━━━━━━━━━━━━━━━━━━━━━━━━━━━━━━━━━┳━━━━━━━━━━━━━━━━━━━━━━━━┳━━━━━━━━━━━━━━━┓\n",
       "┃<span style=\"font-weight: bold\"> Layer (type)                    </span>┃<span style=\"font-weight: bold\"> Output Shape           </span>┃<span style=\"font-weight: bold\">       Param # </span>┃\n",
       "┡━━━━━━━━━━━━━━━━━━━━━━━━━━━━━━━━━╇━━━━━━━━━━━━━━━━━━━━━━━━╇━━━━━━━━━━━━━━━┩\n",
       "│ embedding_2 (<span style=\"color: #0087ff; text-decoration-color: #0087ff\">Embedding</span>)         │ (<span style=\"color: #00d7ff; text-decoration-color: #00d7ff\">None</span>, <span style=\"color: #00af00; text-decoration-color: #00af00\">500</span>, <span style=\"color: #00af00; text-decoration-color: #00af00\">128</span>)       │     <span style=\"color: #00af00; text-decoration-color: #00af00\">1,280,000</span> │\n",
       "├─────────────────────────────────┼────────────────────────┼───────────────┤\n",
       "│ simple_rnn_2 (<span style=\"color: #0087ff; text-decoration-color: #0087ff\">SimpleRNN</span>)        │ (<span style=\"color: #00d7ff; text-decoration-color: #00d7ff\">None</span>, <span style=\"color: #00af00; text-decoration-color: #00af00\">128</span>)            │        <span style=\"color: #00af00; text-decoration-color: #00af00\">32,896</span> │\n",
       "├─────────────────────────────────┼────────────────────────┼───────────────┤\n",
       "│ dense_2 (<span style=\"color: #0087ff; text-decoration-color: #0087ff\">Dense</span>)                 │ (<span style=\"color: #00d7ff; text-decoration-color: #00d7ff\">None</span>, <span style=\"color: #00af00; text-decoration-color: #00af00\">1</span>)              │           <span style=\"color: #00af00; text-decoration-color: #00af00\">129</span> │\n",
       "└─────────────────────────────────┴────────────────────────┴───────────────┘\n",
       "</pre>\n"
      ],
      "text/plain": [
       "┏━━━━━━━━━━━━━━━━━━━━━━━━━━━━━━━━━┳━━━━━━━━━━━━━━━━━━━━━━━━┳━━━━━━━━━━━━━━━┓\n",
       "┃\u001b[1m \u001b[0m\u001b[1mLayer (type)                   \u001b[0m\u001b[1m \u001b[0m┃\u001b[1m \u001b[0m\u001b[1mOutput Shape          \u001b[0m\u001b[1m \u001b[0m┃\u001b[1m \u001b[0m\u001b[1m      Param #\u001b[0m\u001b[1m \u001b[0m┃\n",
       "┡━━━━━━━━━━━━━━━━━━━━━━━━━━━━━━━━━╇━━━━━━━━━━━━━━━━━━━━━━━━╇━━━━━━━━━━━━━━━┩\n",
       "│ embedding_2 (\u001b[38;5;33mEmbedding\u001b[0m)         │ (\u001b[38;5;45mNone\u001b[0m, \u001b[38;5;34m500\u001b[0m, \u001b[38;5;34m128\u001b[0m)       │     \u001b[38;5;34m1,280,000\u001b[0m │\n",
       "├─────────────────────────────────┼────────────────────────┼───────────────┤\n",
       "│ simple_rnn_2 (\u001b[38;5;33mSimpleRNN\u001b[0m)        │ (\u001b[38;5;45mNone\u001b[0m, \u001b[38;5;34m128\u001b[0m)            │        \u001b[38;5;34m32,896\u001b[0m │\n",
       "├─────────────────────────────────┼────────────────────────┼───────────────┤\n",
       "│ dense_2 (\u001b[38;5;33mDense\u001b[0m)                 │ (\u001b[38;5;45mNone\u001b[0m, \u001b[38;5;34m1\u001b[0m)              │           \u001b[38;5;34m129\u001b[0m │\n",
       "└─────────────────────────────────┴────────────────────────┴───────────────┘\n"
      ]
     },
     "metadata": {},
     "output_type": "display_data"
    },
    {
     "data": {
      "text/html": [
       "<pre style=\"white-space:pre;overflow-x:auto;line-height:normal;font-family:Menlo,'DejaVu Sans Mono',consolas,'Courier New',monospace\"><span style=\"font-weight: bold\"> Total params: </span><span style=\"color: #00af00; text-decoration-color: #00af00\">1,313,027</span> (5.01 MB)\n",
       "</pre>\n"
      ],
      "text/plain": [
       "\u001b[1m Total params: \u001b[0m\u001b[38;5;34m1,313,027\u001b[0m (5.01 MB)\n"
      ]
     },
     "metadata": {},
     "output_type": "display_data"
    },
    {
     "data": {
      "text/html": [
       "<pre style=\"white-space:pre;overflow-x:auto;line-height:normal;font-family:Menlo,'DejaVu Sans Mono',consolas,'Courier New',monospace\"><span style=\"font-weight: bold\"> Trainable params: </span><span style=\"color: #00af00; text-decoration-color: #00af00\">1,313,025</span> (5.01 MB)\n",
       "</pre>\n"
      ],
      "text/plain": [
       "\u001b[1m Trainable params: \u001b[0m\u001b[38;5;34m1,313,025\u001b[0m (5.01 MB)\n"
      ]
     },
     "metadata": {},
     "output_type": "display_data"
    },
    {
     "data": {
      "text/html": [
       "<pre style=\"white-space:pre;overflow-x:auto;line-height:normal;font-family:Menlo,'DejaVu Sans Mono',consolas,'Courier New',monospace\"><span style=\"font-weight: bold\"> Non-trainable params: </span><span style=\"color: #00af00; text-decoration-color: #00af00\">0</span> (0.00 B)\n",
       "</pre>\n"
      ],
      "text/plain": [
       "\u001b[1m Non-trainable params: \u001b[0m\u001b[38;5;34m0\u001b[0m (0.00 B)\n"
      ]
     },
     "metadata": {},
     "output_type": "display_data"
    },
    {
     "data": {
      "text/html": [
       "<pre style=\"white-space:pre;overflow-x:auto;line-height:normal;font-family:Menlo,'DejaVu Sans Mono',consolas,'Courier New',monospace\"><span style=\"font-weight: bold\"> Optimizer params: </span><span style=\"color: #00af00; text-decoration-color: #00af00\">2</span> (12.00 B)\n",
       "</pre>\n"
      ],
      "text/plain": [
       "\u001b[1m Optimizer params: \u001b[0m\u001b[38;5;34m2\u001b[0m (12.00 B)\n"
      ]
     },
     "metadata": {},
     "output_type": "display_data"
    }
   ],
   "source": [
    "# Load the RNN Model\n",
    "model = load_model(\"D:/ML_PROJECTS/IMDB_Movie_Sentiment_Analysis/Movie_Sentiment_Prediction/RNN/simple_rnn_imdb.h5\")\n",
    "model.summary()"
   ]
  },
  {
   "cell_type": "code",
   "execution_count": 6,
   "id": "85f4dc0d",
   "metadata": {},
   "outputs": [
    {
     "data": {
      "text/plain": [
       "[array([[ 0.07418483, -0.00437412, -0.00446007, ...,  0.09655106,\n",
       "          0.07951327,  0.07905485],\n",
       "        [ 0.04410016, -0.03219385,  0.0467325 , ..., -0.00929611,\n",
       "          0.05336088, -0.00363905],\n",
       "        [ 0.07417271,  0.01416162, -0.03617198, ...,  0.00664368,\n",
       "          0.02478305,  0.05347795],\n",
       "        ...,\n",
       "        [-0.05766776,  0.04468374, -0.04541347, ...,  0.04126238,\n",
       "         -0.01646172,  0.02998905],\n",
       "        [-0.05038651,  0.00121821, -0.10868751, ..., -0.01250302,\n",
       "         -0.02311793,  0.04777089],\n",
       "        [-0.02354582,  0.03929065,  0.04701452, ...,  0.07026887,\n",
       "          0.00230786,  0.06791047]], dtype=float32),\n",
       " array([[ 0.1574269 , -0.18328735, -0.04511846, ...,  0.03429035,\n",
       "          0.12304394, -0.14300631],\n",
       "        [-0.10729859, -0.00293896,  0.02094443, ..., -0.05011867,\n",
       "          0.05445755,  0.11742935],\n",
       "        [ 0.08403416,  0.17763521,  0.04209302, ..., -0.06831872,\n",
       "          0.03419734, -0.11310621],\n",
       "        ...,\n",
       "        [-0.07874808, -0.11941082, -0.11730514, ...,  0.06654051,\n",
       "         -0.21602939, -0.11648825],\n",
       "        [-0.08707213,  0.10140283, -0.07890896, ...,  0.09824729,\n",
       "         -0.12569109, -0.16479014],\n",
       "        [-0.13137864, -0.12857625, -0.16598758, ...,  0.14182982,\n",
       "         -0.07322752, -0.00462145]], dtype=float32),\n",
       " array([[ 0.19884667,  0.15628102,  0.12918599, ..., -0.02551621,\n",
       "         -0.00600153,  0.00720309],\n",
       "        [ 0.02754489,  0.18845336, -0.04419127, ..., -0.03942398,\n",
       "          0.11610079,  0.02838321],\n",
       "        [ 0.15990876, -0.00711301,  0.04554567, ..., -0.00953478,\n",
       "          0.05517329, -0.09914593],\n",
       "        ...,\n",
       "        [-0.21378578, -0.03582521, -0.08282752, ...,  0.01766494,\n",
       "          0.03032058, -0.09124059],\n",
       "        [-0.04921477,  0.14451535,  0.10087652, ..., -0.12386917,\n",
       "          0.00506915,  0.02806035],\n",
       "        [ 0.03137517,  0.01595759,  0.28003636, ..., -0.01799075,\n",
       "          0.01728771, -0.09296051]], dtype=float32),\n",
       " array([ 0.01551797, -0.00415442, -0.00709931, -0.00801704, -0.01095167,\n",
       "         0.0043206 , -0.01543428,  0.00551556,  0.02629862, -0.01247911,\n",
       "         0.01135945, -0.00517221,  0.01749352,  0.00014916, -0.0076428 ,\n",
       "        -0.04078713, -0.00823034,  0.01732837,  0.00200558,  0.03073907,\n",
       "        -0.02676236,  0.02684351, -0.01168929, -0.00142098, -0.00555697,\n",
       "         0.01643425,  0.01165184, -0.00632714,  0.00860192,  0.01794166,\n",
       "         0.00157286, -0.00150026,  0.00179185,  0.02905732,  0.05212067,\n",
       "        -0.00205197,  0.03282752,  0.03119872, -0.00516197,  0.01966043,\n",
       "         0.0532244 , -0.00333573, -0.02529753, -0.01323343,  0.03171727,\n",
       "        -0.05336163,  0.00785362, -0.02358038, -0.00722805, -0.01297468,\n",
       "        -0.00138894, -0.01794619, -0.00221194,  0.00218893, -0.0065453 ,\n",
       "         0.00331301, -0.00766174,  0.00206363,  0.00396334, -0.01089981,\n",
       "        -0.02170863, -0.00714359,  0.00084775, -0.00183844,  0.00612625,\n",
       "        -0.01990415, -0.02473692, -0.01209422, -0.01085531,  0.01998977,\n",
       "         0.02862389,  0.00414706,  0.01074773, -0.00641561, -0.00153454,\n",
       "         0.0174025 ,  0.00378859, -0.00914665,  0.01149815, -0.00817446,\n",
       "        -0.00622946,  0.05086723, -0.01515638, -0.00556487, -0.00804473,\n",
       "        -0.02125067,  0.01242197,  0.0009129 ,  0.00342571, -0.0116985 ,\n",
       "        -0.0300593 , -0.03250928, -0.04550418, -0.0684177 , -0.01303647,\n",
       "        -0.00797316,  0.00833729,  0.0262442 , -0.0211611 , -0.01492109,\n",
       "         0.02242933,  0.01653967, -0.01416652,  0.00072146, -0.020783  ,\n",
       "         0.01774943, -0.00408281, -0.02783455,  0.00117084,  0.02264851,\n",
       "        -0.00665224, -0.03018864, -0.03039619, -0.00430945, -0.00963836,\n",
       "         0.01879645,  0.01472642, -0.03008802,  0.01257612,  0.0186886 ,\n",
       "         0.02888816,  0.008131  , -0.00526599,  0.00146342, -0.00321399,\n",
       "        -0.00276596, -0.03348531, -0.02361741], dtype=float32),\n",
       " array([[-6.16380852e-03],\n",
       "        [-4.24260467e-01],\n",
       "        [-3.08581740e-01],\n",
       "        [-1.32017314e-01],\n",
       "        [-7.63364583e-02],\n",
       "        [ 5.43046594e-02],\n",
       "        [ 8.54457319e-02],\n",
       "        [ 3.15415472e-01],\n",
       "        [-1.41289532e-01],\n",
       "        [-4.26343977e-02],\n",
       "        [-1.00378454e-01],\n",
       "        [ 1.50147319e-01],\n",
       "        [-1.76311970e-01],\n",
       "        [ 2.14677140e-01],\n",
       "        [ 1.13673843e-01],\n",
       "        [-2.58338898e-02],\n",
       "        [-8.85490179e-02],\n",
       "        [-8.84194747e-02],\n",
       "        [-1.37550220e-01],\n",
       "        [-1.11247331e-01],\n",
       "        [ 1.39517292e-01],\n",
       "        [-1.92121454e-02],\n",
       "        [ 1.02675267e-01],\n",
       "        [-1.29920647e-01],\n",
       "        [-7.03892335e-02],\n",
       "        [-2.68011004e-01],\n",
       "        [ 2.01843798e-01],\n",
       "        [ 3.01503600e-03],\n",
       "        [-1.21018821e-02],\n",
       "        [-1.46029636e-01],\n",
       "        [ 1.67059585e-01],\n",
       "        [-2.09282145e-01],\n",
       "        [ 1.33330211e-01],\n",
       "        [-1.02029264e-01],\n",
       "        [-1.02715887e-01],\n",
       "        [-1.05495878e-01],\n",
       "        [-1.10927150e-01],\n",
       "        [ 2.13952661e-01],\n",
       "        [-1.39293849e-01],\n",
       "        [-1.22900590e-01],\n",
       "        [ 1.14735171e-01],\n",
       "        [-1.20345987e-01],\n",
       "        [ 1.15634426e-01],\n",
       "        [-1.57802537e-01],\n",
       "        [-8.89761150e-02],\n",
       "        [ 1.74854435e-02],\n",
       "        [ 8.79233554e-02],\n",
       "        [-2.13276267e-01],\n",
       "        [ 1.82735652e-01],\n",
       "        [ 1.18470281e-01],\n",
       "        [ 8.49791914e-02],\n",
       "        [-5.69116212e-02],\n",
       "        [ 2.06370920e-01],\n",
       "        [ 8.94676223e-02],\n",
       "        [-3.12554315e-02],\n",
       "        [ 2.38107666e-01],\n",
       "        [ 1.18347891e-01],\n",
       "        [ 1.58503190e-01],\n",
       "        [-1.87454090e-01],\n",
       "        [-1.13194317e-01],\n",
       "        [ 6.94947988e-02],\n",
       "        [-1.03296317e-01],\n",
       "        [ 9.23152491e-02],\n",
       "        [-7.58290116e-04],\n",
       "        [ 1.80480614e-01],\n",
       "        [-4.79206964e-02],\n",
       "        [-1.69942632e-01],\n",
       "        [ 1.35345049e-02],\n",
       "        [-1.19033240e-01],\n",
       "        [-3.15698655e-03],\n",
       "        [ 5.21718431e-03],\n",
       "        [ 1.22630000e-02],\n",
       "        [ 2.24226221e-01],\n",
       "        [-2.23319024e-01],\n",
       "        [ 1.22102559e-01],\n",
       "        [ 1.76381171e-02],\n",
       "        [ 8.88432725e-04],\n",
       "        [ 3.13071124e-02],\n",
       "        [-1.98295578e-01],\n",
       "        [ 3.75569575e-02],\n",
       "        [-7.98885450e-02],\n",
       "        [-1.59904137e-01],\n",
       "        [ 1.21489421e-01],\n",
       "        [ 2.03109965e-01],\n",
       "        [-3.30255836e-01],\n",
       "        [-2.53671736e-01],\n",
       "        [-9.09410715e-02],\n",
       "        [ 5.08878306e-02],\n",
       "        [ 7.89683219e-03],\n",
       "        [-2.04401404e-01],\n",
       "        [ 1.83165267e-01],\n",
       "        [-1.27656251e-01],\n",
       "        [-7.11343661e-02],\n",
       "        [ 1.73134908e-01],\n",
       "        [ 1.49564072e-01],\n",
       "        [ 9.61078331e-03],\n",
       "        [-2.13132128e-01],\n",
       "        [ 4.13617585e-04],\n",
       "        [-1.98869109e-01],\n",
       "        [-1.77934200e-01],\n",
       "        [-2.10125163e-01],\n",
       "        [ 9.65221450e-02],\n",
       "        [ 1.71765223e-01],\n",
       "        [ 1.87881589e-01],\n",
       "        [ 1.55580565e-01],\n",
       "        [-5.57759777e-02],\n",
       "        [-1.13386974e-01],\n",
       "        [-1.80203736e-01],\n",
       "        [ 2.06548661e-01],\n",
       "        [ 1.30058751e-01],\n",
       "        [ 5.35924621e-02],\n",
       "        [ 7.36595914e-02],\n",
       "        [-1.53106943e-01],\n",
       "        [-1.85287930e-02],\n",
       "        [-8.23534802e-02],\n",
       "        [ 1.72797456e-01],\n",
       "        [-7.92804137e-02],\n",
       "        [-1.50485530e-01],\n",
       "        [ 2.50763446e-01],\n",
       "        [ 1.24067903e-01],\n",
       "        [ 3.72170024e-02],\n",
       "        [-1.47496089e-01],\n",
       "        [-8.77986625e-02],\n",
       "        [-7.15940595e-02],\n",
       "        [-3.82194012e-01],\n",
       "        [ 2.58305013e-01],\n",
       "        [-1.18250288e-01],\n",
       "        [ 1.67837575e-01]], dtype=float32),\n",
       " array([0.0355055], dtype=float32)]"
      ]
     },
     "execution_count": 6,
     "metadata": {},
     "output_type": "execute_result"
    }
   ],
   "source": [
    "model.get_weights()"
   ]
  },
  {
   "cell_type": "code",
   "execution_count": 8,
   "id": "0711a98c",
   "metadata": {},
   "outputs": [],
   "source": [
    "# Step 2: Helper Functions\n",
    "# Decode Functions\n",
    "def decode_review(encoded_review):\n",
    "    return \" \".join([reverse_word_index.get(i-3,\"?\") for i in encoded_review])\n",
    "\n",
    "# Function to preprocess user input\n",
    "def preprocess_text(text):\n",
    "    words = text.lower().split()\n",
    "    encoded_review = [word_index.get(word, 2) + 3 for word in words]\n",
    "    padded_review = sequence.pad_sequences([encoded_review], maxlen=500)\n",
    "    return padded_review"
   ]
  },
  {
   "cell_type": "code",
   "execution_count": 9,
   "id": "7d6c3fe9",
   "metadata": {},
   "outputs": [],
   "source": [
    "###Step 3: Prediction  function\n",
    "\n",
    "def predict_sentiment(review):\n",
    "    preprocessed_input=preprocess_text(review)\n",
    "\n",
    "    prediction=model.predict(preprocessed_input)\n",
    "\n",
    "    sentiment = 'Positive' if prediction[0][0] > 0.5 else 'Negative'\n",
    "    \n",
    "    return sentiment, prediction[0][0]"
   ]
  },
  {
   "cell_type": "code",
   "execution_count": 10,
   "id": "fcca7166",
   "metadata": {},
   "outputs": [
    {
     "name": "stdout",
     "output_type": "stream",
     "text": [
      "\u001b[1m1/1\u001b[0m \u001b[32m━━━━━━━━━━━━━━━━━━━━\u001b[0m\u001b[37m\u001b[0m \u001b[1m0s\u001b[0m 138ms/step\n",
      "Review: This movie was fantastic! The acting was great and the plot was thrilling.\n",
      "Sentiment: Positive\n",
      "Prediction Score: 0.7212837934494019\n"
     ]
    }
   ],
   "source": [
    "# Step 4: User Input and Prediction\n",
    "# Example review for prediction\n",
    "example_review = \"This movie was fantastic! The acting was great and the plot was thrilling.\"\n",
    "\n",
    "sentiment,score=predict_sentiment(example_review)\n",
    "\n",
    "print(f'Review: {example_review}')\n",
    "print(f'Sentiment: {sentiment}')\n",
    "print(f'Prediction Score: {score}')"
   ]
  },
  {
   "cell_type": "code",
   "execution_count": null,
   "id": "201efef7",
   "metadata": {},
   "outputs": [],
   "source": []
  }
 ],
 "metadata": {
  "kernelspec": {
   "display_name": "myenv",
   "language": "python",
   "name": "python3"
  },
  "language_info": {
   "codemirror_mode": {
    "name": "ipython",
    "version": 3
   },
   "file_extension": ".py",
   "mimetype": "text/x-python",
   "name": "python",
   "nbconvert_exporter": "python",
   "pygments_lexer": "ipython3",
   "version": "3.11.11"
  }
 },
 "nbformat": 4,
 "nbformat_minor": 5
}
